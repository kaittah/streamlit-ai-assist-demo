{
 "cells": [
  {
   "cell_type": "code",
   "execution_count": 1,
   "metadata": {},
   "outputs": [],
   "source": [
    "import os"
   ]
  },
  {
   "cell_type": "code",
   "execution_count": 10,
   "metadata": {},
   "outputs": [],
   "source": [
    "import replicate\n",
    "from pydantic import BaseModel\n",
    "from typing import List\n",
    "\n",
    "from jinja2 import Template\n"
   ]
  },
  {
   "cell_type": "code",
   "execution_count": 18,
   "metadata": {},
   "outputs": [],
   "source": [
    "class Prompt:\n",
    "    def __init__(\n",
    "            self,\n",
    "            template\n",
    "    ):\n",
    "        self.template=Template(template)\n",
    "\n",
    "\n",
    "    def render(self, **template_values):\n",
    "        return self.template.render(**template_values)"
   ]
  },
  {
   "cell_type": "code",
   "execution_count": 23,
   "metadata": {},
   "outputs": [],
   "source": [
    "prompt_template = Prompt(\"\"\"<|im_start|>user\n",
    "{{ content }}\n",
    "<|im_end|>\n",
    "\"\"\"\n",
    ")"
   ]
  },
  {
   "cell_type": "code",
   "execution_count": 31,
   "metadata": {},
   "outputs": [],
   "source": [
    "\n",
    "\n",
    "class ChatLLM(BaseModel):\n",
    "    model: str = \"snowflake/snowflake-arctic-instruct\"\n",
    "    temperature: float = 0.0\n",
    "    top_p: float = 1.0\n",
    "\n",
    "    def generate(self, prompt: str):\n",
    "        prediction = replicate.models.predictions.create(\n",
    "                    self.model,\n",
    "                    input={\"prompt\": prompt,\n",
    "                    \"prompt_template\": r\"{prompt}\",\n",
    "                    \"temperature\": self.temperature,\n",
    "                    \"top_p\": self.top_p,\n",
    "                    })\n",
    "        prediction.wait()\n",
    "        completion = \"\".join(prediction.output)\n",
    "        return completion"
   ]
  },
  {
   "cell_type": "code",
   "execution_count": 29,
   "metadata": {},
   "outputs": [],
   "source": [
    "prompt = prompt_template.render(**{\"content\": \"Who was the first president?\"})"
   ]
  },
  {
   "cell_type": "code",
   "execution_count": 32,
   "metadata": {},
   "outputs": [
    {
     "name": "stdout",
     "output_type": "stream",
     "text": [
      "答案\n",
      "The first president of the United States was George Washington. He served as the President from April 30, 1789, to March 4, 1797.\n"
     ]
    },
    {
     "ename": "",
     "evalue": "",
     "output_type": "error",
     "traceback": [
      "\u001b[1;31mThe Kernel crashed while executing code in the current cell or a previous cell. \n",
      "\u001b[1;31mPlease review the code in the cell(s) to identify a possible cause of the failure. \n",
      "\u001b[1;31mClick <a href='https://aka.ms/vscodeJupyterKernelCrash'>here</a> for more info. \n",
      "\u001b[1;31mView Jupyter <a href='command:jupyter.viewOutput'>log</a> for further details."
     ]
    }
   ],
   "source": [
    "llm = ChatLLM()\n",
    "result = llm.generate(prompt=prompt)\n",
    "print(result)"
   ]
  },
  {
   "cell_type": "code",
   "execution_count": null,
   "metadata": {},
   "outputs": [],
   "source": [
    "import datetime\n",
    "import re\n",
    "\n",
    "from pydantic import BaseModel\n",
    "from typing import List, Dict, Tuple\n",
    "#https://github.com/mpaepper/llm_agents/blob/main/llm_agents/agent.py\n",
    "\n",
    "FINAL_ANSWER_TOKEN = \"Final Answer:\"\n",
    "OBSERVATION_TOKEN = \"Observation:\"\n",
    "THOUGHT_TOKEN = \"Thought:\"\n",
    "PROMPT_TEMPLATE = \"\"\"Today is {today} and you can use tools to get new information. Answer the question as best as you can using the following tools: \n",
    "\n",
    "{tool_description}\n",
    "\n",
    "Use the following format:\n",
    "\n",
    "Question: the input question you must answer\n",
    "Thought: comment on what you want to do next\n",
    "Action: the action to take, exactly one element of [{tool_names}]\n",
    "Action Input: the input to the action\n",
    "Observation: the result of the action\n",
    "... (this Thought/Action/Action Input/Observation repeats N times, use it until you are sure of the answer)\n",
    "Thought: I now know the final answer\n",
    "Final Answer: your final answer to the original input question\n",
    "\n",
    "Begin!\n",
    "\n",
    "Question: {question}\n",
    "Thought: {previous_responses}\n",
    "\"\"\"\n",
    "\n",
    "\n",
    "class Agent(BaseModel):\n",
    "    llm: ChatLLM\n",
    "    tools: List[ToolInterface]\n",
    "    prompt_template: str = PROMPT_TEMPLATE\n",
    "    max_loops: int = 15\n",
    "    # The stop pattern is used, so the LLM does not hallucinate until the end\n",
    "    stop_pattern: List[str] = [f'\\n{OBSERVATION_TOKEN}', f'\\n\\t{OBSERVATION_TOKEN}']\n",
    "\n",
    "    @property\n",
    "    def tool_description(self) -> str:\n",
    "        return \"\\n\".join([f\"{tool.name}: {tool.description}\" for tool in self.tools])\n",
    "\n",
    "    @property\n",
    "    def tool_names(self) -> str:\n",
    "        return \",\".join([tool.name for tool in self.tools])\n",
    "\n",
    "    @property\n",
    "    def tool_by_names(self) -> Dict[str, ToolInterface]:\n",
    "        return {tool.name: tool for tool in self.tools}\n",
    "\n",
    "    def run(self, question: str):\n",
    "        previous_responses = []\n",
    "        num_loops = 0\n",
    "        prompt = self.prompt_template.format(\n",
    "                today = datetime.date.today(),\n",
    "                tool_description=self.tool_description,\n",
    "                tool_names=self.tool_names,\n",
    "                question=question,\n",
    "                previous_responses='{previous_responses}'\n",
    "        )\n",
    "        print(prompt.format(previous_responses=''))\n",
    "        while num_loops < self.max_loops:\n",
    "            num_loops += 1\n",
    "            curr_prompt = prompt.format(previous_responses='\\n'.join(previous_responses))\n",
    "            generated, tool, tool_input = self.decide_next_action(curr_prompt)\n",
    "            if tool == 'Final Answer':\n",
    "                return tool_input\n",
    "            if tool not in self.tool_by_names:\n",
    "                raise ValueError(f\"Unknown tool: {tool}\")\n",
    "            tool_result = self.tool_by_names[tool].use(tool_input)\n",
    "            generated += f\"\\n{OBSERVATION_TOKEN} {tool_result}\\n{THOUGHT_TOKEN}\"\n",
    "            print(generated)\n",
    "            previous_responses.append(generated)\n",
    "\n",
    "    def decide_next_action(self, prompt: str) -> str:\n",
    "        generated = self.llm.generate(prompt, stop=self.stop_pattern)\n",
    "        tool, tool_input = self._parse(generated)\n",
    "        return generated, tool, tool_input\n",
    "\n",
    "    def _parse(self, generated: str) -> Tuple[str, str]:\n",
    "        if FINAL_ANSWER_TOKEN in generated:\n",
    "            return \"Final Answer\", generated.split(FINAL_ANSWER_TOKEN)[-1].strip()\n",
    "        regex = r\"Action: [\\[]?(.*?)[\\]]?[\\n]*Action Input:[\\s]*(.*)\"\n",
    "        match = re.search(regex, generated, re.DOTALL)\n",
    "        if not match:\n",
    "            raise ValueError(f\"Output of LLM is not parsable for next tool use: `{generated}`\")\n",
    "        tool = match.group(1).strip()\n",
    "        tool_input = match.group(2)\n",
    "        return tool, tool_input.strip(\" \").strip('\"')\n",
    "\n",
    "\n",
    "if __name__ == '__main__':\n",
    "    agent = Agent(llm=ChatLLM(), tools=[PythonREPLTool()])\n",
    "    result = agent.run(\"What is 7 * 9 - 34 in Python?\")\n",
    "\n",
    "    print(f\"Final answer is {result}\")"
   ]
  }
 ],
 "metadata": {
  "kernelspec": {
   "display_name": "streamlit-ai-assist-2T0yDrRD",
   "language": "python",
   "name": "python3"
  },
  "language_info": {
   "codemirror_mode": {
    "name": "ipython",
    "version": 3
   },
   "file_extension": ".py",
   "mimetype": "text/x-python",
   "name": "python",
   "nbconvert_exporter": "python",
   "pygments_lexer": "ipython3",
   "version": "3.10.2"
  }
 },
 "nbformat": 4,
 "nbformat_minor": 2
}
